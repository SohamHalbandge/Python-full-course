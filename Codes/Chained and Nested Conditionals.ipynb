{
 "cells": [
  {
   "cell_type": "code",
   "execution_count": 5,
   "id": "e3b578fe",
   "metadata": {},
   "outputs": [
    {
     "name": "stdout",
     "output_type": "stream",
     "text": [
      "Enter your Number: 9\n",
      "Enter your Number: 9\n"
     ]
    }
   ],
   "source": [
    "#getting input from user\n",
    "x = int(input(\"Enter your Number: \"))\n",
    "y = int(input(\"Enter your Number: \"))"
   ]
  },
  {
   "cell_type": "code",
   "execution_count": 6,
   "id": "b48f2412",
   "metadata": {},
   "outputs": [
    {
     "name": "stdout",
     "output_type": "stream",
     "text": [
      "x and y are equal\n"
     ]
    }
   ],
   "source": [
    "#relationship between x and y\n",
    "if x < y :\n",
    "    print('x is less than y')\n",
    "elif x > y:\n",
    "    print('x is greater than y')\n",
    "else:\n",
    "    print('x and y are equal')"
   ]
  },
  {
   "cell_type": "code",
   "execution_count": 22,
   "id": "f7f92bcd",
   "metadata": {},
   "outputs": [],
   "source": [
    "#Guessing an alpabhet\n",
    "choice = 'zebra'"
   ]
  },
  {
   "cell_type": "code",
   "execution_count": 23,
   "id": "e67308f7",
   "metadata": {},
   "outputs": [
    {
     "name": "stdout",
     "output_type": "stream",
     "text": [
      "this input doesnt exist\n"
     ]
    }
   ],
   "source": [
    "if choice == 'a' :\n",
    "    print('Bad guess')\n",
    "elif choice == 'b' :\n",
    "    print('Good guess')\n",
    "elif choice == 'c' :\n",
    "    print('Close , but not correct')\n",
    "else :\n",
    "    print('this input doesnt exist')"
   ]
  },
  {
   "cell_type": "markdown",
   "id": "4f5aa6fb",
   "metadata": {},
   "source": [
    "# NESTED CONDITIONALS"
   ]
  },
  {
   "cell_type": "code",
   "execution_count": 24,
   "id": "20195ed3",
   "metadata": {},
   "outputs": [
    {
     "name": "stdout",
     "output_type": "stream",
     "text": [
      "x and y are equal\n"
     ]
    }
   ],
   "source": [
    "if x == y :\n",
    "    print('x and y are equal')\n",
    "else:\n",
    "    if x < y :\n",
    "        print('x is less than equal')\n",
    "    else:\n",
    "        print('x is greater than y')"
   ]
  },
  {
   "cell_type": "code",
   "execution_count": 26,
   "id": "45be0b4b",
   "metadata": {},
   "outputs": [
    {
     "name": "stdout",
     "output_type": "stream",
     "text": [
      "x is positive single-digit number\n"
     ]
    }
   ],
   "source": [
    "#check whether number number is single digit positive number\n",
    "if 0 < x:\n",
    "    if x < 10:\n",
    "        print('x is positive single-digit number')"
   ]
  },
  {
   "cell_type": "markdown",
   "id": "c4747375",
   "metadata": {},
   "source": [
    "# optional (AND) statement"
   ]
  },
  {
   "cell_type": "code",
   "execution_count": 27,
   "id": "0041250f",
   "metadata": {},
   "outputs": [
    {
     "name": "stdout",
     "output_type": "stream",
     "text": [
      "x is positive single-digit number\n"
     ]
    }
   ],
   "source": [
    "if 0<x and x<10:\n",
    "    print('x is positive single-digit number')"
   ]
  },
  {
   "cell_type": "code",
   "execution_count": null,
   "id": "216fd9bc",
   "metadata": {},
   "outputs": [],
   "source": []
  }
 ],
 "metadata": {
  "kernelspec": {
   "display_name": "Python 3 (ipykernel)",
   "language": "python",
   "name": "python3"
  },
  "language_info": {
   "codemirror_mode": {
    "name": "ipython",
    "version": 3
   },
   "file_extension": ".py",
   "mimetype": "text/x-python",
   "name": "python",
   "nbconvert_exporter": "python",
   "pygments_lexer": "ipython3",
   "version": "3.9.12"
  }
 },
 "nbformat": 4,
 "nbformat_minor": 5
}
