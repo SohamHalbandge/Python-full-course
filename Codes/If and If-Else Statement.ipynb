{
 "cells": [
  {
   "cell_type": "markdown",
   "id": "7e3d5dcb",
   "metadata": {},
   "source": [
    "# IF STATEMENT"
   ]
  },
  {
   "cell_type": "code",
   "execution_count": 11,
   "id": "ae7ef620",
   "metadata": {},
   "outputs": [
    {
     "name": "stdout",
     "output_type": "stream",
     "text": [
      "Enter Your Number: 5\n"
     ]
    }
   ],
   "source": [
    "x = int(input(\"Enter Your Number: \"))"
   ]
  },
  {
   "cell_type": "code",
   "execution_count": 12,
   "id": "4af94054",
   "metadata": {},
   "outputs": [
    {
     "name": "stdout",
     "output_type": "stream",
     "text": [
      "x is positive\n"
     ]
    }
   ],
   "source": [
    "#Checking the given number is positive or not\n",
    "if x > 0 :\n",
    "    print('x is positive')"
   ]
  },
  {
   "cell_type": "code",
   "execution_count": 13,
   "id": "25bea6d3",
   "metadata": {},
   "outputs": [
    {
     "name": "stdout",
     "output_type": "stream",
     "text": [
      "X is positive\n"
     ]
    }
   ],
   "source": [
    "if x > 0:\n",
    "    print('X is positive')"
   ]
  },
  {
   "cell_type": "code",
   "execution_count": 14,
   "id": "511e8715",
   "metadata": {},
   "outputs": [],
   "source": [
    "if x > 0:\n",
    "    pass     #pass statement does nothing!"
   ]
  },
  {
   "cell_type": "markdown",
   "id": "fa18ea04",
   "metadata": {},
   "source": [
    "###### Write a program to print if a number less than 10 , print 'Small' take the values from the input user"
   ]
  },
  {
   "cell_type": "code",
   "execution_count": 20,
   "id": "c1a136f7",
   "metadata": {},
   "outputs": [
    {
     "name": "stdout",
     "output_type": "stream",
     "text": [
      "Enter Your Number: 2\n",
      "Small\n",
      "DONE\n"
     ]
    }
   ],
   "source": [
    "y = int(input(\"Enter Your Number: \"))\n",
    "if y < 10:\n",
    "    print('Small')\n",
    "    \n",
    "print('DONE')"
   ]
  },
  {
   "cell_type": "markdown",
   "id": "a5d30145",
   "metadata": {},
   "source": [
    "# IF-ELSE STATEMENT"
   ]
  },
  {
   "cell_type": "code",
   "execution_count": 22,
   "id": "9e83c7b7",
   "metadata": {},
   "outputs": [
    {
     "name": "stdout",
     "output_type": "stream",
     "text": [
      "x1 is odd\n",
      "DONE\n"
     ]
    }
   ],
   "source": [
    "x1 = 13\n",
    "if x1 % 2 == 0:\n",
    "    print('x1 is even')\n",
    "else:\n",
    "    print('x1 is odd')\n",
    "print(\"DONE\")"
   ]
  },
  {
   "cell_type": "code",
   "execution_count": null,
   "id": "3b1308b1",
   "metadata": {},
   "outputs": [],
   "source": []
  }
 ],
 "metadata": {
  "kernelspec": {
   "display_name": "Python 3 (ipykernel)",
   "language": "python",
   "name": "python3"
  },
  "language_info": {
   "codemirror_mode": {
    "name": "ipython",
    "version": 3
   },
   "file_extension": ".py",
   "mimetype": "text/x-python",
   "name": "python",
   "nbconvert_exporter": "python",
   "pygments_lexer": "ipython3",
   "version": "3.9.12"
  }
 },
 "nbformat": 4,
 "nbformat_minor": 5
}
